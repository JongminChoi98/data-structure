{
 "cells": [
  {
   "cell_type": "code",
   "execution_count": 9,
   "metadata": {},
   "outputs": [],
   "source": [
    "class Solution_1:\n",
    "    # Two pointers\n",
    "    # Time complexity: O(n)\n",
    "    # Space complexity: O(1)\n",
    "    def isPalindrome(self, s: str) -> bool:\n",
    "        start, end = 0, len(s) - 1\n",
    "\n",
    "        while start < end:\n",
    "            while start < end and not self.alphaNum(s[start]):\n",
    "                start += 1\n",
    "            while start < end and not self.alphaNum(s[end]):\n",
    "                end -= 1\n",
    "            if s[start].lower() != s[end].lower():\n",
    "                return False\n",
    "            start, end = start + 1, end - 1\n",
    "\n",
    "        return True\n",
    "\n",
    "    def alphaNum(self, c):\n",
    "        return (\n",
    "            ord(\"A\") <= ord(c) <= ord(\"Z\")\n",
    "            or ord(\"a\") <= ord(c) <= ord(\"z\")\n",
    "            or ord(\"0\") <= ord(c) <= ord(\"9\")\n",
    "        )"
   ]
  },
  {
   "cell_type": "code",
   "execution_count": 10,
   "metadata": {},
   "outputs": [],
   "source": [
    "class Solution_2:\n",
    "    # Reverse\n",
    "    # Time complexity: O(n)\n",
    "    # Space complexity: O(n)\n",
    "    def isPalindrome(self, s: str) -> bool:\n",
    "        newStr = \"\"\n",
    "\n",
    "        for c in s:\n",
    "            if c.isalnum():\n",
    "                newStr += c.lower()\n",
    "        return newStr == newStr[::-1]"
   ]
  },
  {
   "cell_type": "code",
   "execution_count": 11,
   "metadata": {},
   "outputs": [
    {
     "name": "stdout",
     "output_type": "stream",
     "text": [
      "Solution 1 True False True\n",
      "Solution 2 True False True\n"
     ]
    }
   ],
   "source": [
    "\"\"\"\n",
    "Example 1:\n",
    "\n",
    "Input: s = \"A man, a plan, a canal: Panama\"\n",
    "Output: true\n",
    "Explanation: \"amanaplanacanalpanama\" is a palindrome.\n",
    "Example 2:\n",
    "\n",
    "Input: s = \"race a car\"\n",
    "Output: false\n",
    "Explanation: \"raceacar\" is not a palindrome.\n",
    "Example 3:\n",
    "\n",
    "Input: s = \" \"\n",
    "Output: true\n",
    "Explanation: s is an empty string \"\" after removing non-alphanumeric characters.\n",
    "Since an empty string reads the same forward and backward, it is a palindrome.\n",
    "\"\"\"\n",
    "\n",
    "solution_1 = Solution_1()\n",
    "solution_2 = Solution_2()\n",
    "\n",
    "print(\"Solution 1\", end=\" \")\n",
    "print(solution_1.isPalindrome(\"A man, a plan, a canal: Panama\"), end=\" \")\n",
    "print(solution_1.isPalindrome(\"race a car\"), end=\" \")\n",
    "print(solution_1.isPalindrome(\" \"))\n",
    "\n",
    "print(\"Solution 2\", end=\" \")\n",
    "print(solution_2.isPalindrome(\"A man, a plan, a canal: Panama\"), end=\" \")\n",
    "print(solution_2.isPalindrome(\"race a car\"), end=\" \")\n",
    "print(solution_2.isPalindrome(\" \"))"
   ]
  }
 ],
 "metadata": {
  "kernelspec": {
   "display_name": "Python 3",
   "language": "python",
   "name": "python3"
  },
  "language_info": {
   "codemirror_mode": {
    "name": "ipython",
    "version": 3
   },
   "file_extension": ".py",
   "mimetype": "text/x-python",
   "name": "python",
   "nbconvert_exporter": "python",
   "pygments_lexer": "ipython3",
   "version": "3.11.7"
  }
 },
 "nbformat": 4,
 "nbformat_minor": 2
}
