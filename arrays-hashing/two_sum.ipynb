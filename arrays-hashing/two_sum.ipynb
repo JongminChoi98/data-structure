{
 "cells": [
  {
   "cell_type": "code",
   "execution_count": 1,
   "metadata": {},
   "outputs": [],
   "source": [
    "# Checking every combination of two values\n",
    "# Time complexity: O(n^2)\n",
    "# Space complexity: O(0)\n",
    "def twoSum_1(nums: list[int], target: int) -> list[int]:\n",
    "    for i in range(len(nums)):\n",
    "        for j in range(i + 1, len(nums)):\n",
    "            if (target - nums[i]) == nums[j]:\n",
    "                return [i, j]"
   ]
  },
  {
   "cell_type": "code",
   "execution_count": 2,
   "metadata": {},
   "outputs": [],
   "source": [
    "# Hash Map\n",
    "# Time complexity: O(n)\n",
    "# Space complexity: O(n)\n",
    "def twoSum_2(nums: list[int], target: int) -> list[int]:\n",
    "    hash_map = {}  # val: index\n",
    "\n",
    "    for i, n in enumerate(nums):\n",
    "        diff = target - n\n",
    "        if diff in hash_map:\n",
    "            return [hash_map[diff], i]\n",
    "        hash_map[n] = i"
   ]
  },
  {
   "cell_type": "code",
   "execution_count": 3,
   "metadata": {},
   "outputs": [
    {
     "name": "stdout",
     "output_type": "stream",
     "text": [
      "Solution 1 [0, 1] [1, 2] [0, 1]\n",
      "Solution 2 [0, 1] [1, 2] [0, 1]\n"
     ]
    }
   ],
   "source": [
    "\"\"\"\n",
    "Example 1:\n",
    "Input: nums = [2,7,11,15], target = 9\n",
    "Output: [0,1]\n",
    "Explanation: Because nums[0] + nums[1] == 9, we return [0, 1].\n",
    "\n",
    "Example 2:\n",
    "Input: nums = [3,2,4], target = 6\n",
    "Output: [1,2]\n",
    "\n",
    "Example 3:\n",
    "Input: nums = [3,3], target = 6\n",
    "Output: [0,1]\n",
    "\"\"\"\n",
    "\n",
    "print(\"Solution 1\", end=\" \")\n",
    "print(twoSum_1([2, 7, 11, 15], 9), end=\" \")\n",
    "print(twoSum_1([3, 2, 4], 6), end=\" \")\n",
    "print(twoSum_1([3, 3], 6))\n",
    "\n",
    "print(\"Solution 2\", end=\" \")\n",
    "print(twoSum_2([2, 7, 11, 15], 9), end=\" \")\n",
    "print(twoSum_2([3, 2, 4], 6), end=\" \")\n",
    "print(twoSum_2([3, 3], 6))"
   ]
  }
 ],
 "metadata": {
  "kernelspec": {
   "display_name": "Python 3",
   "language": "python",
   "name": "python3"
  },
  "language_info": {
   "codemirror_mode": {
    "name": "ipython",
    "version": 3
   },
   "file_extension": ".py",
   "mimetype": "text/x-python",
   "name": "python",
   "nbconvert_exporter": "python",
   "pygments_lexer": "ipython3",
   "version": "3.11.7"
  }
 },
 "nbformat": 4,
 "nbformat_minor": 2
}
