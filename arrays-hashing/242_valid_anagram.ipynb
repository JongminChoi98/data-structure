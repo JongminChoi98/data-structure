{
 "cells": [
  {
   "cell_type": "code",
   "execution_count": 16,
   "metadata": {},
   "outputs": [],
   "source": [
    "# Hashmap 1\n",
    "# Time complexity: O(n)\n",
    "# Space complexity: O(s+t)\n",
    "from collections import Counter\n",
    "\n",
    "\n",
    "def isAnagram_1(s: str, t: str) -> bool:\n",
    "    return Counter(s) == Counter(t)"
   ]
  },
  {
   "cell_type": "code",
   "execution_count": 17,
   "metadata": {},
   "outputs": [],
   "source": [
    "# Hashmap 2\n",
    "# Time complexity: O(n)\n",
    "# Space complexity: O(s+t)\n",
    "def isAnagram_2(s: str, t: str) -> bool:\n",
    "    if len(s) != len(t):\n",
    "        return False\n",
    "\n",
    "    countS, countT = {}, {}\n",
    "\n",
    "    for i in range(len(s)):\n",
    "        countS[s[i]] = 1 + countS.get(s[i], 0)\n",
    "        countT[t[i]] = 1 + countT.get(t[i], 0)\n",
    "    # == only for simple dict\n",
    "    return countS == countT"
   ]
  },
  {
   "cell_type": "code",
   "execution_count": 18,
   "metadata": {},
   "outputs": [],
   "source": [
    "# Sort and compare 1\n",
    "# Time complexity: O(nlogn)\n",
    "# Space complexity: O(1)\n",
    "def isAnagram_3(s: str, t: str) -> bool:\n",
    "    if len(s) != len(t):\n",
    "        return False\n",
    "\n",
    "    return sorted(s) == sorted(t)"
   ]
  },
  {
   "cell_type": "code",
   "execution_count": 19,
   "metadata": {},
   "outputs": [],
   "source": [
    "# Sort and compare 2\n",
    "# Time complexity: O(nlogn)\n",
    "# Space complexity: O(1)\n",
    "def isAnagram_4(s: str, t: str) -> bool:\n",
    "    if len(s) != len(t):\n",
    "        return False\n",
    "\n",
    "    s = \"\".join(sorted(s))\n",
    "    t = \"\".join(sorted(t))\n",
    "\n",
    "    if s == t:\n",
    "        return True\n",
    "    else:\n",
    "        return False"
   ]
  },
  {
   "cell_type": "code",
   "execution_count": 20,
   "metadata": {},
   "outputs": [
    {
     "name": "stdout",
     "output_type": "stream",
     "text": [
      "Solution 1 True False\n",
      "Solution 2 True False\n",
      "Solution 3 True False\n",
      "Solution 4 True False\n"
     ]
    }
   ],
   "source": [
    "\"\"\"\n",
    "Example 1:\n",
    "\n",
    "Input: s = \"anagram\", t = \"nagaram\"\n",
    "Output: true\n",
    "Example 2:\n",
    "\n",
    "Input: s = \"rat\", t = \"car\"\n",
    "Output: false\n",
    "\"\"\"\n",
    "\n",
    "print(\"Solution 1\", end=\" \")\n",
    "print(isAnagram_1(\"anagram\", \"nagaram\"), end=\" \")\n",
    "print(isAnagram_1(\"rat\", \"car\"))\n",
    "\n",
    "print(\"Solution 2\", end=\" \")\n",
    "print(isAnagram_2(\"anagram\", \"nagaram\"), end=\" \")\n",
    "print(isAnagram_2(\"rat\", \"car\"))\n",
    "\n",
    "print(\"Solution 3\", end=\" \")\n",
    "print(isAnagram_3(\"anagram\", \"nagaram\"), end=\" \")\n",
    "print(isAnagram_3(\"rat\", \"car\"))\n",
    "\n",
    "print(\"Solution 4\", end=\" \")\n",
    "print(isAnagram_4(\"anagram\", \"nagaram\"), end=\" \")\n",
    "print(isAnagram_4(\"rat\", \"car\"))"
   ]
  }
 ],
 "metadata": {
  "kernelspec": {
   "display_name": "Python 3",
   "language": "python",
   "name": "python3"
  },
  "language_info": {
   "codemirror_mode": {
    "name": "ipython",
    "version": 3
   },
   "file_extension": ".py",
   "mimetype": "text/x-python",
   "name": "python",
   "nbconvert_exporter": "python",
   "pygments_lexer": "ipython3",
   "version": "3.11.7"
  }
 },
 "nbformat": 4,
 "nbformat_minor": 2
}
