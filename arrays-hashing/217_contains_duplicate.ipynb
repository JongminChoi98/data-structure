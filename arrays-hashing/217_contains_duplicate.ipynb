{
 "cells": [
  {
   "cell_type": "code",
   "execution_count": 9,
   "metadata": {},
   "outputs": [],
   "source": [
    "# Create a hashset & compare length\n",
    "# Time complexity: O(n)\n",
    "# Space complexity: O(n)\n",
    "def containsDuplicate_1(nums: list[int]) -> bool:\n",
    "    num_sets = set(nums)\n",
    "    if len(num_sets) == len(nums):\n",
    "        return False\n",
    "    else:\n",
    "        return True"
   ]
  },
  {
   "cell_type": "code",
   "execution_count": 10,
   "metadata": {},
   "outputs": [],
   "source": [
    "# Creating a hashset\n",
    "# Time complexity: O(n)\n",
    "# Space complexity: O(n)\n",
    "def containsDuplicate_2(nums: list[int]) -> bool:\n",
    "    hashset = set()\n",
    "\n",
    "    for n in nums:\n",
    "        if n in hashset:\n",
    "            return True\n",
    "        hashset.add(n)\n",
    "    return False"
   ]
  },
  {
   "cell_type": "code",
   "execution_count": 11,
   "metadata": {},
   "outputs": [],
   "source": [
    "# Sort & Compare elements\n",
    "# Time complexity: O(nlogn)\n",
    "def containsDuplicate_3(nums: list[int]) -> bool:\n",
    "    nums.sort()\n",
    "\n",
    "    for i in range(len(nums) - 1):\n",
    "        if nums[i] == nums[i + 1]:\n",
    "            return True\n",
    "    return False"
   ]
  },
  {
   "cell_type": "code",
   "execution_count": 12,
   "metadata": {},
   "outputs": [
    {
     "name": "stdout",
     "output_type": "stream",
     "text": [
      "Solution 1 True False True\n",
      "Solution 2 True False True\n",
      "Solution 3 True False True\n"
     ]
    }
   ],
   "source": [
    "\"\"\"\n",
    "Test case\n",
    "[1,2,3,1] # True\n",
    "[1,2,3,4] # False\n",
    "[1,1,1,3,3,4,3,2,4,2] # True\n",
    "\"\"\"\n",
    "\n",
    "print(\"Solution 1\", end=\" \")\n",
    "print(containsDuplicate_1([1, 2, 3, 1]), end=\" \")\n",
    "print(containsDuplicate_1([1, 2, 3, 4]), end=\" \")\n",
    "print(containsDuplicate_1([1, 1, 1, 3, 3, 4, 3, 2, 4, 2]))\n",
    "print(\"Solution 2\", end=\" \")\n",
    "print(containsDuplicate_2([1, 2, 3, 1]), end=\" \")\n",
    "print(containsDuplicate_2([1, 2, 3, 4]), end=\" \")\n",
    "print(containsDuplicate_2([1, 1, 1, 3, 3, 4, 3, 2, 4, 2]))\n",
    "print(\"Solution 3\", end=\" \")\n",
    "print(containsDuplicate_3([1, 2, 3, 1]), end=\" \")\n",
    "print(containsDuplicate_3([1, 2, 3, 4]), end=\" \")\n",
    "print(containsDuplicate_3([1, 1, 1, 3, 3, 4, 3, 2, 4, 2]))"
   ]
  }
 ],
 "metadata": {
  "kernelspec": {
   "display_name": "Python 3",
   "language": "python",
   "name": "python3"
  },
  "language_info": {
   "codemirror_mode": {
    "name": "ipython",
    "version": 3
   },
   "file_extension": ".py",
   "mimetype": "text/x-python",
   "name": "python",
   "nbconvert_exporter": "python",
   "pygments_lexer": "ipython3",
   "version": "3.11.7"
  }
 },
 "nbformat": 4,
 "nbformat_minor": 2
}
