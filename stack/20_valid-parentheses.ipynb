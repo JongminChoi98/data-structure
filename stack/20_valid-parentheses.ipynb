{
 "cells": [
  {
   "cell_type": "code",
   "execution_count": 4,
   "metadata": {},
   "outputs": [],
   "source": [
    "# Stack\n",
    "# Time complexity: O(n)\n",
    "# Space complexity: O(n)\n",
    "def isValid(s: str) -> bool:\n",
    "    Map = {\")\": \"(\", \"]\": \"[\", \"}\": \"{\"}\n",
    "    stack = []\n",
    "\n",
    "    for c in s:\n",
    "        if c not in Map:\n",
    "            stack.append(c)\n",
    "            continue\n",
    "        if not stack or stack[-1] != Map[c]:\n",
    "            return False\n",
    "        stack.pop()\n",
    "\n",
    "    return not stack"
   ]
  },
  {
   "cell_type": "code",
   "execution_count": 5,
   "metadata": {},
   "outputs": [
    {
     "name": "stdout",
     "output_type": "stream",
     "text": [
      "Solution True True False\n"
     ]
    }
   ],
   "source": [
    "\"\"\"\n",
    "Example 1:\n",
    "Input: s = \"()\"\n",
    "Output: true\n",
    "\n",
    "Example 2:\n",
    "Input: s = \"()[]{}\"\n",
    "Output: true\n",
    "\n",
    "Example 3:\n",
    "Input: s = \"(]\"\n",
    "Output: false\n",
    "\"\"\"\n",
    "\n",
    "print(\"Solution\", end=\" \")\n",
    "print(isValid(\"()\"), end=\" \")\n",
    "print(isValid(\"()[]{}\"), end=\" \")\n",
    "print(isValid(\"(]\"))"
   ]
  }
 ],
 "metadata": {
  "kernelspec": {
   "display_name": "Python 3",
   "language": "python",
   "name": "python3"
  },
  "language_info": {
   "codemirror_mode": {
    "name": "ipython",
    "version": 3
   },
   "file_extension": ".py",
   "mimetype": "text/x-python",
   "name": "python",
   "nbconvert_exporter": "python",
   "pygments_lexer": "ipython3",
   "version": "3.11.7"
  }
 },
 "nbformat": 4,
 "nbformat_minor": 2
}
